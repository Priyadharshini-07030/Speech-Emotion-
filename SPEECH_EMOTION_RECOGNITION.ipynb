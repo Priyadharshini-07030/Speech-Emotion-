{
  "nbformat": 4,
  "nbformat_minor": 0,
  "metadata": {
    "colab": {
      "provenance": [],
      "authorship_tag": "ABX9TyMxWkVMAOEC1vMVKG1uiHgZ",
      "include_colab_link": true
    },
    "kernelspec": {
      "name": "python3",
      "display_name": "Python 3"
    },
    "language_info": {
      "name": "python"
    }
  },
  "cells": [
    {
      "cell_type": "markdown",
      "metadata": {
        "id": "view-in-github",
        "colab_type": "text"
      },
      "source": [
        "<a href=\"https://colab.research.google.com/github/Priyadharshini-07030/Speech-Emotion-/blob/main/SPEECH_EMOTION_RECOGNITION.ipynb\" target=\"_parent\"><img src=\"https://colab.research.google.com/assets/colab-badge.svg\" alt=\"Open In Colab\"/></a>"
      ]
    },
    {
      "cell_type": "code",
      "execution_count": 1,
      "metadata": {
        "colab": {
          "base_uri": "https://localhost:8080/"
        },
        "id": "dLvGT7CNxiYR",
        "outputId": "a4535ef5-b75e-4434-ba66-f4172466fd04"
      },
      "outputs": [
        {
          "output_type": "stream",
          "name": "stdout",
          "text": [
            "Mounted at /content/drive\n"
          ]
        }
      ],
      "source": [
        "from google.colab import drive\n",
        "drive.mount('/content/drive')"
      ]
    },
    {
      "cell_type": "code",
      "source": [
        "#9.Speech Emotion Recognition Using ML\n",
        "\n",
        "import os\n",
        "import librosa\n",
        "import numpy as np\n",
        "import pandas as pd\n",
        "from sklearn.model_selection import train_test_split\n",
        "from sklearn.ensemble import RandomForestClassifier\n",
        "from sklearn.metrics import classification_report\n",
        "\n",
        "# Path to dataset folder (update if different)\n",
        "DATA_PATH = \"/content/drive/MyDrive/PlantClassification/speech-emotion-recognition-ravdess-data\"\n",
        "\n",
        "emotion_map = {\n",
        "    '01': 'neutral',\n",
        "    '02': 'calm',\n",
        "    '03': 'happy',\n",
        "    '04': 'sad',\n",
        "    '05': 'angry',\n",
        "    '06': 'fearful',\n",
        "    '07': 'disgust',\n",
        "    '08': 'surprised'\n",
        "}\n",
        "\n",
        "# Function to extract features from each audio file\n",
        "def extract_features(file_path):\n",
        "    y, sr = librosa.load(file_path, duration=3, offset=0.5)\n",
        "    mfcc = librosa.feature.mfcc(y=y, sr=sr, n_mfcc=40)\n",
        "    mfcc_scaled = np.mean(mfcc.T, axis=0)\n",
        "    return mfcc_scaled\n",
        "\n",
        "# Load dataset\n",
        "features = []\n",
        "labels = []\n",
        "\n",
        "for root, _, files in os.walk(DATA_PATH):\n",
        "    for file in files:\n",
        "        if file.endswith(\".wav\"):\n",
        "            emotion = file.split(\"-\")[2]  # Adjust this based on filename pattern\n",
        "            emotion_label = emotion_map.get(emotion, \"unknown\")  # map code to label\n",
        "            file_path = os.path.join(root, file)\n",
        "            data = extract_features(file_path)\n",
        "            features.append(data)\n",
        "            labels.append(emotion_label)\n",
        "\n",
        "# Convert to DataFrame\n",
        "X = np.array(features)\n",
        "y = np.array(labels)\n",
        "\n",
        "# Split dataset\n",
        "X_train, X_test, y_train, y_test = train_test_split(X, y, test_size=0.2, random_state=42)\n",
        "\n",
        "# Train model\n",
        "model = RandomForestClassifier()\n",
        "model.fit(X_train, y_train)\n",
        "\n",
        "# Evaluate\n",
        "y_pred = model.predict(X_test)\n",
        "print(\"Classification Report:\\n\", classification_report(y_test, y_pred))\n"
      ],
      "metadata": {
        "id": "kZbRI2JtcX1k",
        "colab": {
          "base_uri": "https://localhost:8080/"
        },
        "outputId": "c22dd46b-95e9-419c-e8a3-ae92acb7afd7"
      },
      "execution_count": null,
      "outputs": [
        {
          "output_type": "stream",
          "name": "stdout",
          "text": [
            "Classification Report:\n",
            "               precision    recall  f1-score   support\n",
            "\n",
            "       angry       0.78      0.76      0.77        37\n",
            "        calm       0.62      0.89      0.73        38\n",
            "     disgust       0.53      0.76      0.63        34\n",
            "     fearful       0.68      0.69      0.68        36\n",
            "       happy       0.61      0.40      0.48        43\n",
            "     neutral       0.85      0.48      0.61        23\n",
            "         sad       0.48      0.33      0.39        42\n",
            "   surprised       0.49      0.57      0.53        35\n",
            "\n",
            "    accuracy                           0.61       288\n",
            "   macro avg       0.63      0.61      0.60       288\n",
            "weighted avg       0.62      0.61      0.60       288\n",
            "\n"
          ]
        }
      ]
    }
  ]
}